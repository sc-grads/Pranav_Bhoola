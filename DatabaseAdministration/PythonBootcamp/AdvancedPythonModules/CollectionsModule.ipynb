{
 "cells": [
  {
   "cell_type": "code",
   "execution_count": 1,
   "id": "c36042e3",
   "metadata": {},
   "outputs": [],
   "source": [
    "from collections import Counter"
   ]
  },
  {
   "cell_type": "code",
   "execution_count": 2,
   "id": "10777c56",
   "metadata": {},
   "outputs": [],
   "source": [
    "mylist = [1,2,2,2,2,3,3,3,1,2,1,12,3,2,32,1,21,1,223,1]"
   ]
  },
  {
   "cell_type": "code",
   "execution_count": 3,
   "id": "67f56bbb",
   "metadata": {},
   "outputs": [
    {
     "data": {
      "text/plain": [
       "Counter({1: 6, 2: 6, 3: 4, 12: 1, 32: 1, 21: 1, 223: 1})"
      ]
     },
     "execution_count": 3,
     "metadata": {},
     "output_type": "execute_result"
    }
   ],
   "source": [
    "Counter(mylist)"
   ]
  },
  {
   "cell_type": "code",
   "execution_count": 4,
   "id": "268c39b2",
   "metadata": {},
   "outputs": [
    {
     "data": {
      "text/plain": [
       "Counter({'b': 7, 's': 6, 'h': 3, 'a': 2})"
      ]
     },
     "execution_count": 4,
     "metadata": {},
     "output_type": "execute_result"
    }
   ],
   "source": [
    "Counter('aabsbsbsbhshhbbsbs')"
   ]
  },
  {
   "cell_type": "code",
   "execution_count": 6,
   "id": "dce0dc1e",
   "metadata": {},
   "outputs": [],
   "source": [
    "sentence = 'How many times does each word show up in this sentence word times each each word'\n"
   ]
  },
  {
   "cell_type": "code",
   "execution_count": 9,
   "id": "998d9272",
   "metadata": {},
   "outputs": [
    {
     "data": {
      "text/plain": [
       "Counter({'each': 3,\n",
       "         'word': 3,\n",
       "         'times': 2,\n",
       "         'How': 1,\n",
       "         'many': 1,\n",
       "         'does': 1,\n",
       "         'show': 1,\n",
       "         'up': 1,\n",
       "         'in': 1,\n",
       "         'this': 1,\n",
       "         'sentence': 1})"
      ]
     },
     "execution_count": 9,
     "metadata": {},
     "output_type": "execute_result"
    }
   ],
   "source": [
    "words = sentence.split()\n",
    "Counter(words)"
   ]
  },
  {
   "cell_type": "code",
   "execution_count": 11,
   "id": "7ae62e95",
   "metadata": {},
   "outputs": [],
   "source": [
    "from collections import defaultdict"
   ]
  },
  {
   "cell_type": "code",
   "execution_count": 12,
   "id": "795b3592",
   "metadata": {},
   "outputs": [],
   "source": [
    "d = {'a':10}"
   ]
  },
  {
   "cell_type": "code",
   "execution_count": 13,
   "id": "878dc9a5",
   "metadata": {},
   "outputs": [
    {
     "data": {
      "text/plain": [
       "{'a': 10}"
      ]
     },
     "execution_count": 13,
     "metadata": {},
     "output_type": "execute_result"
    }
   ],
   "source": [
    "d"
   ]
  },
  {
   "cell_type": "code",
   "execution_count": 14,
   "id": "0e735207",
   "metadata": {},
   "outputs": [
    {
     "data": {
      "text/plain": [
       "10"
      ]
     },
     "execution_count": 14,
     "metadata": {},
     "output_type": "execute_result"
    }
   ],
   "source": [
    "d['a']"
   ]
  },
  {
   "cell_type": "code",
   "execution_count": 15,
   "id": "41c09430",
   "metadata": {},
   "outputs": [],
   "source": [
    "d  = defaultdict(lambda:0)"
   ]
  },
  {
   "cell_type": "code",
   "execution_count": 16,
   "id": "b665cad6",
   "metadata": {},
   "outputs": [],
   "source": [
    "d['correct'] = 100"
   ]
  },
  {
   "cell_type": "code",
   "execution_count": 17,
   "id": "9e82a282",
   "metadata": {},
   "outputs": [
    {
     "data": {
      "text/plain": [
       "100"
      ]
     },
     "execution_count": 17,
     "metadata": {},
     "output_type": "execute_result"
    }
   ],
   "source": [
    "d['correct']"
   ]
  },
  {
   "cell_type": "code",
   "execution_count": 18,
   "id": "f337bae0",
   "metadata": {},
   "outputs": [
    {
     "data": {
      "text/plain": [
       "0"
      ]
     },
     "execution_count": 18,
     "metadata": {},
     "output_type": "execute_result"
    }
   ],
   "source": [
    "d['Wron Key']"
   ]
  },
  {
   "cell_type": "code",
   "execution_count": 19,
   "id": "d2563ee6",
   "metadata": {},
   "outputs": [
    {
     "data": {
      "text/plain": [
       "defaultdict(<function __main__.<lambda>()>, {'correct': 100, 'Wron Key': 0})"
      ]
     },
     "execution_count": 19,
     "metadata": {},
     "output_type": "execute_result"
    }
   ],
   "source": [
    "d"
   ]
  },
  {
   "cell_type": "code",
   "execution_count": null,
   "id": "2adc7433",
   "metadata": {},
   "outputs": [],
   "source": []
  },
  {
   "cell_type": "code",
   "execution_count": 20,
   "id": "8bfbe736",
   "metadata": {},
   "outputs": [],
   "source": [
    "mytuple = (10,20,30)"
   ]
  },
  {
   "cell_type": "code",
   "execution_count": 21,
   "id": "9eba2ee9",
   "metadata": {},
   "outputs": [
    {
     "data": {
      "text/plain": [
       "10"
      ]
     },
     "execution_count": 21,
     "metadata": {},
     "output_type": "execute_result"
    }
   ],
   "source": [
    "mytuple[0]"
   ]
  },
  {
   "cell_type": "code",
   "execution_count": 22,
   "id": "b09f4d37",
   "metadata": {},
   "outputs": [],
   "source": [
    "from collections import namedtuple"
   ]
  },
  {
   "cell_type": "code",
   "execution_count": 23,
   "id": "75b8d157",
   "metadata": {},
   "outputs": [],
   "source": [
    "Dog = namedtuple('Dog',['age','breed','name'])"
   ]
  },
  {
   "cell_type": "code",
   "execution_count": 24,
   "id": "72a7b658",
   "metadata": {},
   "outputs": [],
   "source": [
    "sammy = Dog(age=5,breed='Husky',name='Sammy')"
   ]
  },
  {
   "cell_type": "code",
   "execution_count": 25,
   "id": "6785d3fe",
   "metadata": {},
   "outputs": [
    {
     "data": {
      "text/plain": [
       "__main__.Dog"
      ]
     },
     "execution_count": 25,
     "metadata": {},
     "output_type": "execute_result"
    }
   ],
   "source": [
    "type(sammy)"
   ]
  },
  {
   "cell_type": "code",
   "execution_count": 26,
   "id": "63b7c1d9",
   "metadata": {},
   "outputs": [
    {
     "data": {
      "text/plain": [
       "Dog(age=5, breed='Husky', name='Sammy')"
      ]
     },
     "execution_count": 26,
     "metadata": {},
     "output_type": "execute_result"
    }
   ],
   "source": [
    "sammy"
   ]
  },
  {
   "cell_type": "code",
   "execution_count": 27,
   "id": "96e43274",
   "metadata": {},
   "outputs": [
    {
     "data": {
      "text/plain": [
       "5"
      ]
     },
     "execution_count": 27,
     "metadata": {},
     "output_type": "execute_result"
    }
   ],
   "source": [
    "sammy.age"
   ]
  },
  {
   "cell_type": "code",
   "execution_count": null,
   "id": "a7529473",
   "metadata": {},
   "outputs": [],
   "source": []
  }
 ],
 "metadata": {
  "kernelspec": {
   "display_name": "Python 3 (ipykernel)",
   "language": "python",
   "name": "python3"
  },
  "language_info": {
   "codemirror_mode": {
    "name": "ipython",
    "version": 3
   },
   "file_extension": ".py",
   "mimetype": "text/x-python",
   "name": "python",
   "nbconvert_exporter": "python",
   "pygments_lexer": "ipython3",
   "version": "3.11.7"
  }
 },
 "nbformat": 4,
 "nbformat_minor": 5
}
