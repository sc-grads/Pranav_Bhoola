{
 "cells": [
  {
   "cell_type": "code",
   "execution_count": 2,
   "id": "e320d87d",
   "metadata": {},
   "outputs": [
    {
     "name": "stdout",
     "output_type": "stream",
     "text": [
      "5\n"
     ]
    },
    {
     "ename": "TypeError",
     "evalue": "unsupported operand type(s) for +: 'int' and 'list'",
     "output_type": "error",
     "traceback": [
      "\u001b[1;31m---------------------------------------------------------------------------\u001b[0m",
      "\u001b[1;31mTypeError\u001b[0m                                 Traceback (most recent call last)",
      "Cell \u001b[1;32mIn[2], line 7\u001b[0m\n\u001b[0;32m      5\u001b[0m result \u001b[38;5;241m=\u001b[39m y \u001b[38;5;241m+\u001b[39m z\n\u001b[0;32m      6\u001b[0m \u001b[38;5;28mprint\u001b[39m(result)\n\u001b[1;32m----> 7\u001b[0m result2 \u001b[38;5;241m=\u001b[39m y\u001b[38;5;241m+\u001b[39mx\n\u001b[0;32m      8\u001b[0m \u001b[38;5;28mprint\u001b[39m(result2)\n",
      "\u001b[1;31mTypeError\u001b[0m: unsupported operand type(s) for +: 'int' and 'list'"
     ]
    }
   ],
   "source": [
    "x = [1,3,4]\n",
    "y = 2\n",
    "z = 3\n",
    "\n",
    "result = y + z\n",
    "print(result)\n",
    "result2 = y+x\n",
    "print(result2)"
   ]
  },
  {
   "cell_type": "code",
   "execution_count": null,
   "id": "9d0786c1",
   "metadata": {},
   "outputs": [
    {
     "name": "stdout",
     "output_type": "stream",
     "text": [
      "5\n",
      "--Return--\n",
      "None\n",
      "> \u001b[1;32mc:\\users\\pranav bhoola\\appdata\\local\\temp\\ipykernel_22108\\1419980936.py\u001b[0m(11)\u001b[0;36m<module>\u001b[1;34m()\u001b[0m\n",
      "\n"
     ]
    }
   ],
   "source": [
    "import pdb\n",
    "\n",
    "x = [1,3,4]\n",
    "y = 2\n",
    "z = 3\n",
    "\n",
    "result = y + z\n",
    "print(result)\n",
    "\n",
    "# Set a trace using Python Debugger\n",
    "pdb.set_trace()\n",
    "\n",
    "result2 = y+x\n",
    "print(result2)"
   ]
  },
  {
   "cell_type": "code",
   "execution_count": null,
   "id": "436cc841",
   "metadata": {},
   "outputs": [],
   "source": []
  }
 ],
 "metadata": {
  "kernelspec": {
   "display_name": "Python 3 (ipykernel)",
   "language": "python",
   "name": "python3"
  },
  "language_info": {
   "codemirror_mode": {
    "name": "ipython",
    "version": 3
   },
   "file_extension": ".py",
   "mimetype": "text/x-python",
   "name": "python",
   "nbconvert_exporter": "python",
   "pygments_lexer": "ipython3",
   "version": "3.11.7"
  }
 },
 "nbformat": 4,
 "nbformat_minor": 5
}
