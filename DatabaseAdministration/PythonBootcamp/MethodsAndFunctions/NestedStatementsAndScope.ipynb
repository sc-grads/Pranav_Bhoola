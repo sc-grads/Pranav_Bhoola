{
 "cells": [
  {
   "cell_type": "code",
   "execution_count": 1,
   "id": "33f1bebd",
   "metadata": {},
   "outputs": [],
   "source": [
    "x = 25\n",
    "\n",
    "def printer():\n",
    "    x = 50 \n",
    "    return x"
   ]
  },
  {
   "cell_type": "code",
   "execution_count": 2,
   "id": "2a7542bb",
   "metadata": {},
   "outputs": [
    {
     "name": "stdout",
     "output_type": "stream",
     "text": [
      "25\n"
     ]
    }
   ],
   "source": [
    "print(x)"
   ]
  },
  {
   "cell_type": "code",
   "execution_count": 3,
   "id": "fc3ba28a",
   "metadata": {},
   "outputs": [
    {
     "name": "stdout",
     "output_type": "stream",
     "text": [
      "50\n"
     ]
    }
   ],
   "source": [
    "print(printer())"
   ]
  },
  {
   "cell_type": "code",
   "execution_count": 4,
   "id": "dd295010",
   "metadata": {},
   "outputs": [],
   "source": [
    "#lambda num:num**2"
   ]
  },
  {
   "cell_type": "code",
   "execution_count": 13,
   "id": "2b131630",
   "metadata": {},
   "outputs": [
    {
     "name": "stdout",
     "output_type": "stream",
     "text": [
      "Hello IM A LOCAL\n"
     ]
    }
   ],
   "source": [
    "# GLOBAL\n",
    "name = 'THIS IS A GLOBAL STRING'\n",
    "\n",
    "def greet():\n",
    "    \n",
    "    # ENCLOSING\n",
    "    name = ' Sammy '\n",
    "    \n",
    "    def hello() :\n",
    "        \n",
    "        # LOCAL\n",
    "        name = ' IM A LOCAL'\n",
    "        print('Hello' + name)\n",
    "        \n",
    "    hello()\n",
    "    \n",
    "greet()"
   ]
  },
  {
   "cell_type": "code",
   "execution_count": 21,
   "id": "0a60b8cc",
   "metadata": {},
   "outputs": [],
   "source": [
    "x = 50 \n",
    "\n",
    "def func(x):\n",
    "    print (f'x is {x}')\n",
    "    \n",
    "    #LOCAL REASSIGNMENT\n",
    "    x = 200\n",
    "    print(f'I JUST LOCALLY CHANGED X TO {x}')"
   ]
  },
  {
   "cell_type": "code",
   "execution_count": 20,
   "id": "3835f153",
   "metadata": {},
   "outputs": [
    {
     "name": "stdout",
     "output_type": "stream",
     "text": [
      "x is 50\n",
      "I JUST CHANGED X TO 200\n"
     ]
    }
   ],
   "source": [
    "func(x)"
   ]
  },
  {
   "cell_type": "code",
   "execution_count": 22,
   "id": "80c31454",
   "metadata": {},
   "outputs": [
    {
     "name": "stdout",
     "output_type": "stream",
     "text": [
      "50\n"
     ]
    }
   ],
   "source": [
    "print(x)"
   ]
  },
  {
   "cell_type": "code",
   "execution_count": null,
   "id": "80e04607",
   "metadata": {},
   "outputs": [],
   "source": []
  }
 ],
 "metadata": {
  "kernelspec": {
   "display_name": "Python 3 (ipykernel)",
   "language": "python",
   "name": "python3"
  },
  "language_info": {
   "codemirror_mode": {
    "name": "ipython",
    "version": 3
   },
   "file_extension": ".py",
   "mimetype": "text/x-python",
   "name": "python",
   "nbconvert_exporter": "python",
   "pygments_lexer": "ipython3",
   "version": "3.11.7"
  }
 },
 "nbformat": 4,
 "nbformat_minor": 5
}
