{
 "cells": [
  {
   "cell_type": "code",
   "execution_count": 4,
   "id": "8c99448f",
   "metadata": {},
   "outputs": [],
   "source": [
    "def say_hello():\n",
    "    print('hello')\n",
    "    print('how')\n",
    "    print('are')\n",
    "    print('you?')"
   ]
  },
  {
   "cell_type": "code",
   "execution_count": 5,
   "id": "b06da20c",
   "metadata": {},
   "outputs": [
    {
     "name": "stdout",
     "output_type": "stream",
     "text": [
      "hello\n",
      "how\n",
      "are\n",
      "you?\n"
     ]
    }
   ],
   "source": [
    "say_hello()"
   ]
  },
  {
   "cell_type": "code",
   "execution_count": 6,
   "id": "41b14f05",
   "metadata": {},
   "outputs": [],
   "source": [
    "def say_hello(name):\n",
    "    print(f'Hello {name}')"
   ]
  },
  {
   "cell_type": "code",
   "execution_count": 7,
   "id": "289f8014",
   "metadata": {},
   "outputs": [
    {
     "name": "stdout",
     "output_type": "stream",
     "text": [
      "Hello Max\n"
     ]
    }
   ],
   "source": [
    "say_hello('Max')"
   ]
  },
  {
   "cell_type": "code",
   "execution_count": 8,
   "id": "758779c9",
   "metadata": {},
   "outputs": [],
   "source": [
    "def say_hello(name='Default'):\n",
    "    print(f'Hello {name}')"
   ]
  },
  {
   "cell_type": "code",
   "execution_count": 9,
   "id": "c214b354",
   "metadata": {},
   "outputs": [
    {
     "name": "stdout",
     "output_type": "stream",
     "text": [
      "Hello Default\n"
     ]
    }
   ],
   "source": [
    "say_hello()"
   ]
  },
  {
   "cell_type": "code",
   "execution_count": 13,
   "id": "595704ce",
   "metadata": {},
   "outputs": [],
   "source": [
    "def add_num(num1,num2):\n",
    "    return num1 +num2"
   ]
  },
  {
   "cell_type": "code",
   "execution_count": 14,
   "id": "e387cd57",
   "metadata": {},
   "outputs": [],
   "source": [
    "def print_result(a,b):\n",
    "    print (a + b)"
   ]
  },
  {
   "cell_type": "code",
   "execution_count": 15,
   "id": "24ac698c",
   "metadata": {},
   "outputs": [],
   "source": [
    "def return_result(a,b):\n",
    "    return (a+b)"
   ]
  },
  {
   "cell_type": "code",
   "execution_count": 16,
   "id": "3a3fed3c",
   "metadata": {},
   "outputs": [
    {
     "name": "stdout",
     "output_type": "stream",
     "text": [
      "30\n"
     ]
    }
   ],
   "source": [
    "print_result(10,20)"
   ]
  },
  {
   "cell_type": "code",
   "execution_count": 18,
   "id": "aa07815d",
   "metadata": {},
   "outputs": [],
   "source": [
    "result = return_result(10,20)"
   ]
  },
  {
   "cell_type": "code",
   "execution_count": 19,
   "id": "7115a882",
   "metadata": {},
   "outputs": [
    {
     "data": {
      "text/plain": [
       "30"
      ]
     },
     "execution_count": 19,
     "metadata": {},
     "output_type": "execute_result"
    }
   ],
   "source": [
    "result"
   ]
  },
  {
   "cell_type": "code",
   "execution_count": 20,
   "id": "f0b71f21",
   "metadata": {},
   "outputs": [],
   "source": [
    "def myfunc(a,b):\n",
    "    print(a+b)\n",
    "    return a+b"
   ]
  },
  {
   "cell_type": "code",
   "execution_count": 21,
   "id": "cb19127a",
   "metadata": {},
   "outputs": [
    {
     "name": "stdout",
     "output_type": "stream",
     "text": [
      "30\n"
     ]
    }
   ],
   "source": [
    "result = myfunc(10,20)"
   ]
  },
  {
   "cell_type": "code",
   "execution_count": null,
   "id": "268d1baa",
   "metadata": {},
   "outputs": [],
   "source": []
  }
 ],
 "metadata": {
  "kernelspec": {
   "display_name": "Python 3 (ipykernel)",
   "language": "python",
   "name": "python3"
  },
  "language_info": {
   "codemirror_mode": {
    "name": "ipython",
    "version": 3
   },
   "file_extension": ".py",
   "mimetype": "text/x-python",
   "name": "python",
   "nbconvert_exporter": "python",
   "pygments_lexer": "ipython3",
   "version": "3.11.7"
  }
 },
 "nbformat": 4,
 "nbformat_minor": 5
}
